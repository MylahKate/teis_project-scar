{
 "cells": [
  {
   "cell_type": "markdown",
   "id": "09bdd504",
   "metadata": {},
   "source": [
    "Question 1\n",
    "----\n",
    "What is the rate of re-referral? How many children have multiple referrals (by year or by Point of Entry Office (POE))?\n",
    "\n",
    "Use monthly database.\n",
    "\n",
    "Sum each child ID to identify each re-referral. Identify some sort of count.\n",
    "\n",
    "15,267 - Value Counts on Child ID\n",
    "\n",
    "Group By Year to find the total amount of children with multiple ref\n",
    "\n",
    "Group By POE to find the total amount of children with multiple ref\n",
    "\n"
   ]
  },
  {
   "cell_type": "markdown",
   "id": "d2417773",
   "metadata": {},
   "source": [
    "Question 2\n",
    "----\n",
    "\n",
    "A referral is considered a \"successful\" referral if it results in an Individualized Family Service Plan (IFSP). Are there referral sources that have had higher rates of successful referrals? You can determine whether a referral was successful by looking at whether the Initial IFSP Date column is filled in or whether the Child Phase column is equal to IFSP.\n",
    "\n",
    "\n",
    "Looking for the amount of \"Initial IFSP Date\" per \"Referral Source Type Name\"\n",
    "Count the amount IFSP in \"Child Phase\" then Group By each \"Referral Source Type Name\"\n"
   ]
  },
  {
   "cell_type": "markdown",
   "id": "af01e007",
   "metadata": {},
   "source": [
    "Question 3\n",
    "----\n",
    "\n",
    "Some areas of potential concern are POEs having a low proportion of referrals, a high average age of referrals, a low percent of total referrals resulting in an IFSP or a lower percent of eligible referrals resulting in an IFSP. How do POEs compare on these metrics, and which POEs are of concern on the basis of one or more of the listed criteria?\n",
    "\n",
    "\n",
    "\n",
    "Find the avergae age of referral. What is the average age of ref? Timeframe of Notification Date to the Initial Eligibility Date. Find the difference. Or is it the age of the child that come into the program?\n",
    "\n",
    "Find the avergae IFSP\n",
    "\n",
    "Breakdown the POE by Source\n",
    "\n",
    "Compare each source referral numbers to the amount Initial IFSPs. Look for percentages.\n",
    "\n",
    "Identify the most concerning districts\n"
   ]
  },
  {
   "cell_type": "markdown",
   "id": "d68e85d8",
   "metadata": {},
   "source": [
    "Question 4\n",
    "----\n",
    "\n",
    "\n",
    "Look for patterns in referrals and re-referrals on the basis of the following:\n",
    "    - Age\n",
    "    - Referral source\n",
    "    - Socioeconomic status (County SES)"
   ]
  },
  {
   "cell_type": "markdown",
   "id": "94d8e4bc",
   "metadata": {},
   "source": [
    "Question 5\n",
    "----\n",
    "\n",
    "TEIS provides services to eligible infants and toddlers from birth to age 3. Are there any POE or service coordinators with high rates of early closure (a child exiting before reaching age 3)? For this question, only consider cases which have reached the IFSP phase.\n",
    "\n"
   ]
  }
 ],
 "metadata": {
  "kernelspec": {
   "display_name": "Python 3 (ipykernel)",
   "language": "python",
   "name": "python3"
  },
  "language_info": {
   "codemirror_mode": {
    "name": "ipython",
    "version": 3
   },
   "file_extension": ".py",
   "mimetype": "text/x-python",
   "name": "python",
   "nbconvert_exporter": "python",
   "pygments_lexer": "ipython3",
   "version": "3.9.12"
  }
 },
 "nbformat": 4,
 "nbformat_minor": 5
}
